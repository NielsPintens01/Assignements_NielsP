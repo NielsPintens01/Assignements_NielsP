{
 "cells": [
  {
   "cell_type": "code",
   "execution_count": 2,
   "id": "9c2cb0a2",
   "metadata": {},
   "outputs": [],
   "source": [
    "import os\n",
    "import json\n",
    "import numpy as np\n",
    "import pandas as pd\n",
    "import matplotlib.pyplot as plt\n",
    "from scipy import stats"
   ]
  },
  {
   "cell_type": "markdown",
   "id": "1c4d5f0d",
   "metadata": {},
   "source": [
    "# BRU production data"
   ]
  },
  {
   "cell_type": "markdown",
   "id": "d399ba4b",
   "metadata": {},
   "source": [
    "## Step 1:  Python Code for Data Reading"
   ]
  },
  {
   "cell_type": "code",
   "execution_count": 3,
   "id": "011a684d",
   "metadata": {},
   "outputs": [],
   "source": [
    "# Specify the working directory \n",
    "new_directory = r\"C:\\Users\\niels\\Documents\\Assignements_NielsP\\02 model_production_process\\data\\daily_production\\BRU\"\n",
    "\n",
    "# Specify the relative path to the directory containing the JSON files\n",
    "relative_directory_path = new_directory\n",
    "\n",
    "# Get a list of file names in the specified directory\n",
    "file_names = os.listdir(relative_directory_path)\n",
    "\n",
    "# Use os.path.join to build the relative file paths\n",
    "BRU_files_relative = [os.path.join(relative_directory_path, file_name) for file_name in file_names \n",
    "                      if file_name.endswith(\".json\")]\n",
    "\n",
    "#Combine jsons in one dataframe\n",
    "dfs = []\n",
    "\n",
    "for file_path in BRU_files_relative:\n",
    "    with open(file_path, 'r') as file:\n",
    "        json_data = json.load(file)\n",
    "        df_temp = pd.json_normalize(json_data)  \n",
    "        dfs.append(df_temp)\n",
    "\n",
    "dfBRU= pd.concat(dfs, ignore_index=True)\n"
   ]
  },
  {
   "cell_type": "code",
   "execution_count": 4,
   "id": "86e11e4c",
   "metadata": {
    "scrolled": false
   },
   "outputs": [
    {
     "data": {
      "text/html": [
       "<div>\n",
       "<style scoped>\n",
       "    .dataframe tbody tr th:only-of-type {\n",
       "        vertical-align: middle;\n",
       "    }\n",
       "\n",
       "    .dataframe tbody tr th {\n",
       "        vertical-align: top;\n",
       "    }\n",
       "\n",
       "    .dataframe thead th {\n",
       "        text-align: right;\n",
       "    }\n",
       "</style>\n",
       "<table border=\"1\" class=\"dataframe\">\n",
       "  <thead>\n",
       "    <tr style=\"text-align: right;\">\n",
       "      <th></th>\n",
       "      <th>DoW</th>\n",
       "      <th>hour</th>\n",
       "      <th>minute</th>\n",
       "      <th>date</th>\n",
       "      <th>maintenance</th>\n",
       "      <th>prod_loss</th>\n",
       "      <th>prod_loss_perc</th>\n",
       "      <th>production</th>\n",
       "    </tr>\n",
       "  </thead>\n",
       "  <tbody>\n",
       "    <tr>\n",
       "      <th>0</th>\n",
       "      <td>Monday</td>\n",
       "      <td>1</td>\n",
       "      <td>0</td>\n",
       "      <td>01-01-2018 00:00:00.0000</td>\n",
       "      <td>No</td>\n",
       "      <td>61</td>\n",
       "      <td>5</td>\n",
       "      <td>1183</td>\n",
       "    </tr>\n",
       "    <tr>\n",
       "      <th>1</th>\n",
       "      <td>Tuesday</td>\n",
       "      <td>1</td>\n",
       "      <td>0</td>\n",
       "      <td>01-02-2018 00:00:00.0000</td>\n",
       "      <td>No</td>\n",
       "      <td>106</td>\n",
       "      <td>9</td>\n",
       "      <td>1138</td>\n",
       "    </tr>\n",
       "    <tr>\n",
       "      <th>2</th>\n",
       "      <td>Wednesday</td>\n",
       "      <td>1</td>\n",
       "      <td>0</td>\n",
       "      <td>01-03-2018 00:00:00.0000</td>\n",
       "      <td>No</td>\n",
       "      <td>129</td>\n",
       "      <td>10</td>\n",
       "      <td>1115</td>\n",
       "    </tr>\n",
       "    <tr>\n",
       "      <th>3</th>\n",
       "      <td>Thursday</td>\n",
       "      <td>1</td>\n",
       "      <td>0</td>\n",
       "      <td>01-04-2018 00:00:00.0000</td>\n",
       "      <td>No</td>\n",
       "      <td>278</td>\n",
       "      <td>22</td>\n",
       "      <td>966</td>\n",
       "    </tr>\n",
       "    <tr>\n",
       "      <th>4</th>\n",
       "      <td>Friday</td>\n",
       "      <td>1</td>\n",
       "      <td>0</td>\n",
       "      <td>01-05-2018 00:00:00.0000</td>\n",
       "      <td>No</td>\n",
       "      <td>218</td>\n",
       "      <td>17</td>\n",
       "      <td>1026</td>\n",
       "    </tr>\n",
       "    <tr>\n",
       "      <th>...</th>\n",
       "      <td>...</td>\n",
       "      <td>...</td>\n",
       "      <td>...</td>\n",
       "      <td>...</td>\n",
       "      <td>...</td>\n",
       "      <td>...</td>\n",
       "      <td>...</td>\n",
       "      <td>...</td>\n",
       "    </tr>\n",
       "    <tr>\n",
       "      <th>1825</th>\n",
       "      <td>Saturday</td>\n",
       "      <td>1</td>\n",
       "      <td>0</td>\n",
       "      <td>12-31-2022 00:00:00.0000</td>\n",
       "      <td>No</td>\n",
       "      <td>203</td>\n",
       "      <td>16</td>\n",
       "      <td>1041</td>\n",
       "    </tr>\n",
       "    <tr>\n",
       "      <th>1826</th>\n",
       "      <td>Sunday</td>\n",
       "      <td>1</td>\n",
       "      <td>0</td>\n",
       "      <td>01-01-2023 00:00:00.0000</td>\n",
       "      <td>No</td>\n",
       "      <td>231</td>\n",
       "      <td>19</td>\n",
       "      <td>1013</td>\n",
       "    </tr>\n",
       "    <tr>\n",
       "      <th>1827</th>\n",
       "      <td>Monday</td>\n",
       "      <td>1</td>\n",
       "      <td>0</td>\n",
       "      <td>01-02-2023 00:00:00.0000</td>\n",
       "      <td>No</td>\n",
       "      <td>181</td>\n",
       "      <td>15</td>\n",
       "      <td>1063</td>\n",
       "    </tr>\n",
       "    <tr>\n",
       "      <th>1828</th>\n",
       "      <td>Tuesday</td>\n",
       "      <td>1</td>\n",
       "      <td>0</td>\n",
       "      <td>01-03-2023 00:00:00.0000</td>\n",
       "      <td>No</td>\n",
       "      <td>198</td>\n",
       "      <td>16</td>\n",
       "      <td>1046</td>\n",
       "    </tr>\n",
       "    <tr>\n",
       "      <th>1829</th>\n",
       "      <td>Wednesday</td>\n",
       "      <td>1</td>\n",
       "      <td>0</td>\n",
       "      <td>01-04-2023 00:00:00.0000</td>\n",
       "      <td>No</td>\n",
       "      <td>171</td>\n",
       "      <td>14</td>\n",
       "      <td>1073</td>\n",
       "    </tr>\n",
       "  </tbody>\n",
       "</table>\n",
       "<p>1830 rows × 8 columns</p>\n",
       "</div>"
      ],
      "text/plain": [
       "            DoW  hour  minute                      date maintenance prod_loss  \\\n",
       "0        Monday     1       0  01-01-2018 00:00:00.0000          No        61   \n",
       "1       Tuesday     1       0  01-02-2018 00:00:00.0000          No       106   \n",
       "2     Wednesday     1       0  01-03-2018 00:00:00.0000          No       129   \n",
       "3      Thursday     1       0  01-04-2018 00:00:00.0000          No       278   \n",
       "4        Friday     1       0  01-05-2018 00:00:00.0000          No       218   \n",
       "...         ...   ...     ...                       ...         ...       ...   \n",
       "1825   Saturday     1       0  12-31-2022 00:00:00.0000          No       203   \n",
       "1826     Sunday     1       0  01-01-2023 00:00:00.0000          No       231   \n",
       "1827     Monday     1       0  01-02-2023 00:00:00.0000          No       181   \n",
       "1828    Tuesday     1       0  01-03-2023 00:00:00.0000          No       198   \n",
       "1829  Wednesday     1       0  01-04-2023 00:00:00.0000          No       171   \n",
       "\n",
       "     prod_loss_perc production  \n",
       "0                 5       1183  \n",
       "1                 9       1138  \n",
       "2                10       1115  \n",
       "3                22        966  \n",
       "4                17       1026  \n",
       "...             ...        ...  \n",
       "1825             16       1041  \n",
       "1826             19       1013  \n",
       "1827             15       1063  \n",
       "1828             16       1046  \n",
       "1829             14       1073  \n",
       "\n",
       "[1830 rows x 8 columns]"
      ]
     },
     "execution_count": 4,
     "metadata": {},
     "output_type": "execute_result"
    }
   ],
   "source": [
    "dfBRU"
   ]
  },
  {
   "cell_type": "markdown",
   "id": "f7a8531e",
   "metadata": {},
   "source": [
    "## Step 2: data exploration"
   ]
  },
  {
   "cell_type": "code",
   "execution_count": 8,
   "id": "5b93e30a",
   "metadata": {},
   "outputs": [
    {
     "name": "stdout",
     "output_type": "stream",
     "text": [
      "Unique values for DoW: ['Monday' 'Tuesday' 'Wednesday' 'Thursday' 'Friday' 'Saturday' 'Sunday']\n",
      "Unique values for hour: [1]\n",
      "Unique values for minute: [0]\n",
      "Unique values for date: ['01-01-2018 00:00:00.0000' '01-02-2018 00:00:00.0000'\n",
      " '01-03-2018 00:00:00.0000' ... '01-02-2023 00:00:00.0000'\n",
      " '01-03-2023 00:00:00.0000' '01-04-2023 00:00:00.0000']\n",
      "Unique values for maintenance: ['No' 'Yes']\n",
      "Unique values for prod_loss: [61 106 129 278 218 197 162 153 174 150 117 179 262 241 224 285 318 296\n",
      " 207 255 233 184 1244 760 633 394 415 306 373 450 326 728 568 391 385 424\n",
      " 461 513 328 282 345 269 215 236 258 401 301 247 217 289 341 387 369 332\n",
      " 337 280 261 298 252 '#MV' 251 194 125 103 112 748 465 398 213 223 333 240\n",
      " 211 204 756 435 276 171 130 139 133 172 187 170 126 302 260 145 84 107 80\n",
      " 78 70 141 273 294 202 279 205 219 158 156 305 237 295 290 374 308 310 324\n",
      " 248 152 242 339 303 245 220 164 244 321 177 109 62 268 144 151 312 286\n",
      " 134 146 270 161 110 193 135 254 256 149 191 143 167 221 225 165 239 132\n",
      " 118 77 181 198 131 142 354 397 138 297 329 157 682 377 761 516 375 452\n",
      " 826 541 343 359 331 362 419 335 315 228 263 313 346 453 444 443 267 227\n",
      " 201 257 304 347 320 418 478 429 381 372 677 600 384 404 271 178 127 316\n",
      " 160 120 230 353 307 253 222 188 309 277 195 293 327 209 206 238 186 226\n",
      " 350 169 140 365 249 166 203 159 234 235 272 283 199 250 275 176 229 330\n",
      " 101 288 79 54 111 148 380 72 56 68 128 291 190 264 116 284 292 246 102 83\n",
      " 185 163 281 183 231 336 200 214 173 317 182 314 363 406 355 299 386 396\n",
      " 439 413 155 357 349 210 216 352 434 389 366 340 325 896 688 540 506 763\n",
      " 586 378 342 175 154 265 147 119 168 300 370 420 358 85 57 51 189 136 180\n",
      " 344 93 208 75 259 311 403 212 393 356 752 447 446 319 243 196 322 361 410\n",
      " 383 274 423 758 501 351 334 412 417 455 364 466 494 432 407 192 778 534\n",
      " 684 287 376 97 115 121 90 86 123 105 266 400 421 770 614 602 348 482 360\n",
      " 464 769 544 388 511 467 790 518 662 94 113 560 114 89 74 82 100 122 104\n",
      " 232 368]\n",
      "Unique values for prod_loss_perc: [5 9 10 22 17 16 13 12 14 21 19 18 23 26 24 20 15 100 61 51 32 33 25 30 36\n",
      " 59 46 31 34 37 41 28 27 '#MV' 8 60 35 11 7 6 55 66 43 29 38 54 48 4 72 47\n",
      " 40 63 62 49 39 44 42 53 45]\n",
      "Unique values for production: [1183 1138 1115 966 1026 1047 1082 1091 1070 1094 1127 1065 982 1003 1020\n",
      " 959 926 948 1037 989 1011 1060 0 484 611 850 829 938 871 794 918 516 676\n",
      " 853 859 820 783 731 916 962 899 975 1029 1008 986 843 943 997 1027 955\n",
      " 903 857 875 912 907 964 983 946 992 '#MV' 993 1050 1119 1141 1132 496 779\n",
      " 846 1031 1021 911 1004 1033 1040 488 809 968 1073 1114 1105 1111 1072\n",
      " 1057 1074 1118 942 984 1099 1160 1137 1164 1166 1174 1103 971 950 1042\n",
      " 965 1039 1025 1086 1088 939 1007 949 954 870 936 934 920 996 1092 1002\n",
      " 905 941 999 1024 1080 1000 923 1067 1135 1182 976 1100 1093 932 958 1110\n",
      " 1098 974 1083 1134 1051 1109 990 988 1095 1053 1101 1077 1023 1019 1079\n",
      " 1005 1112 1126 1167 1063 1046 1113 1102 890 847 1106 947 915 1087 562 867\n",
      " 483 728 869 792 418 703 901 885 913 882 825 909 929 1016 981 931 898 791\n",
      " 800 801 977 1017 1043 987 940 897 924 826 766 815 863 872 567 644 860 840\n",
      " 973 1066 1117 928 1084 1124 1014 891 937 991 1022 1056 935 967 1049 951\n",
      " 917 1035 1038 1006 1058 1018 894 1075 1104 879 995 1078 1041 1085 1010\n",
      " 1009 972 961 1045 994 969 1068 1015 914 1143 956 1165 1190 1133 1096 864\n",
      " 1172 1188 1176 1116 953 1054 980 1128 960 952 998 1142 1161 1059 1081 963\n",
      " 1061 1013 908 1044 1030 1071 927 1062 930 881 838 889 945 858 848 805 831\n",
      " 1089 887 895 1034 1028 892 810 855 878 904 919 348 556 704 738 481 658\n",
      " 866 902 1069 1090 979 1097 1125 1076 944 874 824 886 1159 1187 1193 1055\n",
      " 1108 1064 900 1151 1036 1169 985 933 841 1032 851 888 492 797 798 925\n",
      " 1001 1048 922 883 834 861 970 821 486 743 893 910 832 827 789 880 778 750\n",
      " 812 837 1052 466 710 560 957 868 1147 1129 1123 1154 1158 1121 1139 978\n",
      " 844 823 474 630 642 896 762 884 780 475 700 856 733 777 454 726 582 1150\n",
      " 1131 684 1130 1155 1170 1162 1144 1122 1140 1012 876]\n"
     ]
    }
   ],
   "source": [
    "# Summarize unique values for all columns\n",
    "unique_values_summary = {}\n",
    "\n",
    "for column in dfBRU.columns:\n",
    "    unique_values_summary[column] = dfBRU[column].unique()\n",
    "\n",
    "for column, unique_values in unique_values_summary.items():\n",
    "    print(f\"Unique values for {column}: {unique_values}\")"
   ]
  },
  {
   "cell_type": "code",
   "execution_count": 10,
   "id": "d4bb895b",
   "metadata": {},
   "outputs": [
    {
     "data": {
      "text/plain": [
       "maintenance\n",
       "No     1736\n",
       "Yes      94\n",
       "Name: count, dtype: int64"
      ]
     },
     "execution_count": 10,
     "metadata": {},
     "output_type": "execute_result"
    }
   ],
   "source": [
    "dfBRU['maintenance'].value_counts()"
   ]
  },
  {
   "cell_type": "code",
   "execution_count": 11,
   "id": "090e31d0",
   "metadata": {
    "scrolled": false
   },
   "outputs": [
    {
     "data": {
      "text/plain": [
       "prod_loss\n",
       "1244    308\n",
       "#MV      94\n",
       "233      13\n",
       "129      12\n",
       "225      11\n",
       "       ... \n",
       "375       1\n",
       "358       1\n",
       "370       1\n",
       "826       1\n",
       "368       1\n",
       "Name: count, Length: 388, dtype: int64"
      ]
     },
     "execution_count": 11,
     "metadata": {},
     "output_type": "execute_result"
    }
   ],
   "source": [
    "dfBRU['prod_loss'].value_counts()"
   ]
  },
  {
   "cell_type": "code",
   "execution_count": 12,
   "id": "b2bb5e6b",
   "metadata": {
    "scrolled": true
   },
   "outputs": [
    {
     "data": {
      "text/plain": [
       "DoW                                 Monday\n",
       "hour                                     1\n",
       "minute                                   0\n",
       "date              08-03-2020 00:00:00.0000\n",
       "maintenance                             No\n",
       "prod_loss                              119\n",
       "prod_loss_perc                          10\n",
       "production                            1125\n",
       "Name: 945, dtype: object"
      ]
     },
     "execution_count": 12,
     "metadata": {},
     "output_type": "execute_result"
    }
   ],
   "source": [
    "#Explore if #MV and planned maintenance is correlated\n",
    "dfBRU.loc[945,:]"
   ]
  },
  {
   "cell_type": "markdown",
   "id": "65485ab9",
   "metadata": {},
   "source": [
    "### Visual data exploration production data"
   ]
  },
  {
   "cell_type": "code",
   "execution_count": 15,
   "id": "bf848559",
   "metadata": {
    "scrolled": false
   },
   "outputs": [
    {
     "data": {
      "image/png": "[encoded data removed]",
      "text/plain": [
       "<Figure size 640x480 with 1 Axes>"
      ]
     },
     "metadata": {},
     "output_type": "display_data"
    }
   ],
   "source": [
    "#Remove non-numerical values with Nan\n",
    "BRU_production = pd.to_numeric(dfBRU['production'], errors='coerce')\n",
    "\n",
    "# Determine optimal numbers of bins for histogram\n",
    "num_bins = int(np.sqrt(len(BRU_production)))\n",
    "\n",
    "# Plot historical data\n",
    "plt.hist(BRU_production, bins=num_bins, alpha=0.5, label='Historical Data')\n",
    "plt.legend()\n",
    "plt.title('Historical Production Data')\n",
    "plt.xlabel('Production')\n",
    "plt.ylabel('Frequency')\n",
    "plt.show()"
   ]
  },
  {
   "cell_type": "markdown",
   "id": "26542d8c",
   "metadata": {},
   "source": [
    "## Step 3: Data filtering for further analysis"
   ]
  },
  {
   "cell_type": "code",
   "execution_count": 17,
   "id": "5540bf11",
   "metadata": {},
   "outputs": [],
   "source": [
    "# Filter out the plannend maintenance and zero production days\n",
    "dfBRU_prod = dfBRU.loc[(dfBRU['maintenance'] == 'No') & (dfBRU['prod_loss_perc'] != 100), :]"
   ]
  },
  {
   "cell_type": "code",
   "execution_count": 19,
   "id": "bf351e34",
   "metadata": {
    "scrolled": false
   },
   "outputs": [
    {
     "data": {
      "image/png": "[encoded data removed]",
      "text/plain": [
       "<Figure size 640x480 with 1 Axes>"
      ]
     },
     "metadata": {},
     "output_type": "display_data"
    }
   ],
   "source": [
    "num_bins = int(np.sqrt(len(dfBRU_prod)))\n",
    "\n",
    "# Plot historical data\n",
    "plt.hist(dfBRU_prod['production'], bins=num_bins, alpha=0.5, label='Historical Data')\n",
    "plt.legend()\n",
    "plt.title('Historical Production Data')\n",
    "plt.xlabel('Production')\n",
    "plt.ylabel('Frequency')\n",
    "plt.show()"
   ]
  },
  {
   "cell_type": "markdown",
   "id": "1ccad41d",
   "metadata": {},
   "source": [
    "## Step 4: Identify Suitable Distribution for Production Process"
   ]
  },
  {
   "cell_type": "code",
   "execution_count": 20,
   "id": "f8e6ef22",
   "metadata": {},
   "outputs": [
    {
     "data": {
      "text/plain": [
       "dtype('int64')"
      ]
     },
     "execution_count": 20,
     "metadata": {},
     "output_type": "execute_result"
    }
   ],
   "source": [
    "#Remove non-numerical values with Nan\n",
    "dfBRU_prod_exzero = pd.to_numeric(dfBRU_prod['production'], errors='coerce')\n",
    "\n",
    "dfBRU_prod_exzero.dtype"
   ]
  },
  {
   "cell_type": "code",
   "execution_count": 25,
   "id": "0531b615",
   "metadata": {},
   "outputs": [
    {
     "name": "stdout",
     "output_type": "stream",
     "text": [
      "Best-fit distribution: norm\n",
      "Parameters: (989.218487394958, 108.90790262811456)\n"
     ]
    }
   ],
   "source": [
    "import numpy as np\n",
    "from scipy import stats\n",
    "\n",
    "def find_best_fit_distribution_continuous(data, distributions=None):\n",
    "    \"\"\"\n",
    "    Find the best-fit distribution for the given data.\n",
    "\n",
    "    Parameters:\n",
    "        data (array-like): The data to fit the distributions to.\n",
    "        distributions (list, optional): The candidate distributions to consider.\n",
    "            Defaults to [stats.norm, stats.gamma, stats.expon, stats.uniform].\n",
    "\n",
    "    Returns:\n",
    "        best_distribution (scipy.stats.rv_continuous): The best-fit distribution.\n",
    "        best_params (tuple): The parameters of the best-fit distribution.\n",
    "    \"\"\"\n",
    "    if distributions is None:\n",
    "        distributions = [\n",
    "            stats.norm,      # Normal distribution\n",
    "            stats.gamma,     # Gamma distribution\n",
    "            stats.expon,     # Exponential distribution\n",
    "            stats.uniform    # Uniform distribution\n",
    "        ]\n",
    "\n",
    "    best_distribution = None\n",
    "    best_params = {}\n",
    "    best_sse = np.inf\n",
    "\n",
    "    for distribution in distributions:\n",
    "        params = distribution.fit(data)\n",
    "        sse = np.sum((distribution.pdf(data, *params) - data) ** 2)\n",
    "\n",
    "        if sse < best_sse:\n",
    "            best_distribution = distribution\n",
    "            best_params = params\n",
    "            best_sse = sse\n",
    "\n",
    "    return best_distribution, best_params\n",
    "\n",
    "def main():\n",
    "  \n",
    "    # Find the best-fit distribution\n",
    "    best_distribution, best_params = find_best_fit_distribution_continuous(dfBRU_prod_exzero)\n",
    "\n",
    "    # Print the best-fit distribution and its parameters\n",
    "    print(f\"Best-fit distribution: {best_distribution.name}\")\n",
    "    print(f\"Parameters: {best_params}\")\n",
    "\n",
    "if __name__ == '__main__':\n",
    "    main()\n",
    "\n"
   ]
  },
  {
   "cell_type": "code",
   "execution_count": 26,
   "id": "e43b3306",
   "metadata": {},
   "outputs": [],
   "source": [
    "bru_best_distribution, bru_best_params = find_best_fit_distribution_continuous(dfBRU_prod_exzero)"
   ]
  },
  {
   "cell_type": "markdown",
   "id": "9115189b",
   "metadata": {},
   "source": [
    "## Step 6: Develop Simulation Program"
   ]
  },
  {
   "cell_type": "code",
   "execution_count": 28,
   "id": "28bb6aaa",
   "metadata": {},
   "outputs": [
    {
     "name": "stdout",
     "output_type": "stream",
     "text": [
      "Enter the number of days for simulation:7\n"
     ]
    }
   ],
   "source": [
    "n_days = int(input(\"Enter the number of days for simulation:\"))\n",
    "\n",
    "def simulation(n_days, N, df_best_params):\n",
    "    \n",
    "    parameter_list=list(df_best_params)\n",
    "    mean = parameter_list[0]\n",
    "    std_dev = parameter_list[1]\n",
    "    \n",
    "    random_numbers = np.random.normal(mean, std_dev, size=(n_days, N))\n",
    "    \n",
    "    tot_prod = random_numbers.sum(axis=0)\n",
    "       \n",
    "    return tot_prod\n",
    "\n",
    "# variables simulation function\n",
    "N = 10**4\n",
    "\n",
    "BRU_data = simulation(n_days, N, bru_best_params)"
   ]
  },
  {
   "cell_type": "code",
   "execution_count": 31,
   "id": "846c5bf1",
   "metadata": {},
   "outputs": [
    {
     "data": {
      "image/png": "[encoded data removed]",
      "text/plain": [
       "<Figure size 640x480 with 1 Axes>"
      ]
     },
     "metadata": {},
     "output_type": "display_data"
    },
    {
     "data": {
      "text/html": [
       "<div>\n",
       "<style scoped>\n",
       "    .dataframe tbody tr th:only-of-type {\n",
       "        vertical-align: middle;\n",
       "    }\n",
       "\n",
       "    .dataframe tbody tr th {\n",
       "        vertical-align: top;\n",
       "    }\n",
       "\n",
       "    .dataframe thead th {\n",
       "        text-align: right;\n",
       "    }\n",
       "</style>\n",
       "<table border=\"1\" class=\"dataframe\">\n",
       "  <thead>\n",
       "    <tr style=\"text-align: right;\">\n",
       "      <th></th>\n",
       "      <th>production_of_7_days</th>\n",
       "    </tr>\n",
       "  </thead>\n",
       "  <tbody>\n",
       "    <tr>\n",
       "      <th>count</th>\n",
       "      <td>10000.000000</td>\n",
       "    </tr>\n",
       "    <tr>\n",
       "      <th>mean</th>\n",
       "      <td>6926.560671</td>\n",
       "    </tr>\n",
       "    <tr>\n",
       "      <th>std</th>\n",
       "      <td>286.610380</td>\n",
       "    </tr>\n",
       "    <tr>\n",
       "      <th>min</th>\n",
       "      <td>5834.009612</td>\n",
       "    </tr>\n",
       "    <tr>\n",
       "      <th>25%</th>\n",
       "      <td>6734.451428</td>\n",
       "    </tr>\n",
       "    <tr>\n",
       "      <th>50%</th>\n",
       "      <td>6928.919932</td>\n",
       "    </tr>\n",
       "    <tr>\n",
       "      <th>75%</th>\n",
       "      <td>7118.502904</td>\n",
       "    </tr>\n",
       "    <tr>\n",
       "      <th>max</th>\n",
       "      <td>8036.915508</td>\n",
       "    </tr>\n",
       "  </tbody>\n",
       "</table>\n",
       "</div>"
      ],
      "text/plain": [
       "       production_of_7_days\n",
       "count          10000.000000\n",
       "mean            6926.560671\n",
       "std              286.610380\n",
       "min             5834.009612\n",
       "25%             6734.451428\n",
       "50%             6928.919932\n",
       "75%             7118.502904\n",
       "max             8036.915508"
      ]
     },
     "metadata": {},
     "output_type": "display_data"
    }
   ],
   "source": [
    "# Create dataframe from simulation data\n",
    "df_BRU_prod = pd.DataFrame(BRU_data, columns=[f'production_of_{n_days}_days'])\n",
    "\n",
    "# Visualize the simulation data\n",
    "plt.hist(df_BRU_prod[f'production_of_{n_days}_days'])\n",
    "plt.title(f'Production over {n_days} Days for BRU')\n",
    "plt.xlabel(f'Production over {n_days} Days')\n",
    "plt.ylabel('Frequency')\n",
    "plt.grid(True)\n",
    "plt.show()\n",
    "\n",
    "# Visualize the summary of the simulation data\n",
    "\n",
    "display(df_BRU_prod.describe())"
   ]
  },
  {
   "cell_type": "markdown",
   "id": "a42d0a5f",
   "metadata": {},
   "source": [
    "## Step 7: Visualize cumulative distribution function"
   ]
  },
  {
   "cell_type": "code",
   "execution_count": 32,
   "id": "3871c89f",
   "metadata": {},
   "outputs": [
    {
     "data": {
      "image/png": "[encoded data removed]",
      "text/plain": [
       "<Figure size 600x500 with 1 Axes>"
      ]
     },
     "metadata": {},
     "output_type": "display_data"
    }
   ],
   "source": [
    "#function to determine the cumulative distribution function\n",
    "def plot_cdf(data):\n",
    "    xx= np.sort(data)\n",
    "    n = len(data)\n",
    "    Fxx = np.arange(1, n + 1) / n\n",
    "    \n",
    "    return xx, Fxx\n",
    "\n",
    "xx, Fxx = plot_cdf(BRU_data)\n",
    "\n",
    "#plot the cdf\n",
    "plt.figure(figsize=(6,5))\n",
    "plt.plot(xx, Fxx, marker=\".\", linestyle=\"none\")\n",
    "plt.title(f\"Cumulative Distribution Function (CDF) for Production over {n_days} Days\")\n",
    "plt.xlabel(f\"Production over {n_days} Days\")\n",
    "plt.ylabel(\"Cumulative Probability\")\n",
    "plt.grid(True)\n",
    "plt.show()"
   ]
  }
 ],
 "metadata": {
  "kernelspec": {
   "display_name": "Python 3 (ipykernel)",
   "language": "python",
   "name": "python3"
  },
  "language_info": {
   "codemirror_mode": {
    "name": "ipython",
    "version": 3
   },
   "file_extension": ".py",
   "mimetype": "text/x-python",
   "name": "python",
   "nbconvert_exporter": "python",
   "pygments_lexer": "ipython3",
   "version": "3.9.18"
  }
 },
 "nbformat": 4,
 "nbformat_minor": 5
}
