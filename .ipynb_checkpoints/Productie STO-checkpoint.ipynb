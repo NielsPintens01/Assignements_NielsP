{
 "cells": [
  {
   "cell_type": "code",
   "execution_count": 1,
   "id": "9c2cb0a2",
   "metadata": {},
   "outputs": [],
   "source": [
    "import os\n",
    "import json\n",
    "import numpy as np\n",
    "import pandas as pd\n",
    "import matplotlib.pyplot as plt\n",
    "from scipy import stats"
   ]
  },
  {
   "cell_type": "markdown",
   "id": "c6204d85",
   "metadata": {},
   "source": [
    "# STO production data"
   ]
  },
  {
   "cell_type": "markdown",
   "id": "73f48eeb",
   "metadata": {},
   "source": [
    "## Step 1:  Python Code for Data Reading"
   ]
  },
  {
   "cell_type": "code",
   "execution_count": 3,
   "id": "011a684d",
   "metadata": {},
   "outputs": [],
   "source": [
    "# Specify the working directory \n",
    "new_directory = r\"C:\\Users\\niels\\Documents\\Assignements_NielsP\\02 model_production_process\\data\\daily_production\\STO\"\n",
    "\n",
    "# Specify the relative path to the directory containing the JSON files\n",
    "relative_directory_path = new_directory\n",
    "\n",
    "# Get a list of file names in the specified directory\n",
    "file_names = os.listdir(relative_directory_path)\n",
    "\n",
    "# Use os.path.join to build the relative file paths\n",
    "STO_files_relative = [os.path.join(relative_directory_path, file_name) for file_name in file_names \n",
    "                      if file_name.endswith(\".json\")]\n",
    "\n",
    "#Combine jsons in one dataframe\n",
    "dfs = []\n",
    "\n",
    "for file_path in STO_files_relative:\n",
    "    with open(file_path, 'r') as file:\n",
    "        json_data = json.load(file)\n",
    "        df_temp = pd.json_normalize(json_data)  \n",
    "        dfs.append(df_temp)\n",
    "\n",
    "dfSTO= pd.concat(dfs, ignore_index=True)\n"
   ]
  },
  {
   "cell_type": "code",
   "execution_count": 4,
   "id": "86e11e4c",
   "metadata": {
    "scrolled": false
   },
   "outputs": [
    {
     "data": {
      "text/html": [
       "<div>\n",
       "<style scoped>\n",
       "    .dataframe tbody tr th:only-of-type {\n",
       "        vertical-align: middle;\n",
       "    }\n",
       "\n",
       "    .dataframe tbody tr th {\n",
       "        vertical-align: top;\n",
       "    }\n",
       "\n",
       "    .dataframe thead th {\n",
       "        text-align: right;\n",
       "    }\n",
       "</style>\n",
       "<table border=\"1\" class=\"dataframe\">\n",
       "  <thead>\n",
       "    <tr style=\"text-align: right;\">\n",
       "      <th></th>\n",
       "      <th>DoW</th>\n",
       "      <th>hour</th>\n",
       "      <th>minute</th>\n",
       "      <th>date</th>\n",
       "      <th>maintenance</th>\n",
       "      <th>prod_loss</th>\n",
       "      <th>prod_loss_perc</th>\n",
       "      <th>production</th>\n",
       "    </tr>\n",
       "  </thead>\n",
       "  <tbody>\n",
       "    <tr>\n",
       "      <th>0</th>\n",
       "      <td>Monday</td>\n",
       "      <td>1</td>\n",
       "      <td>0</td>\n",
       "      <td>01-01-2018 00:00:00.0000</td>\n",
       "      <td>No</td>\n",
       "      <td>9</td>\n",
       "      <td>3</td>\n",
       "      <td>265</td>\n",
       "    </tr>\n",
       "    <tr>\n",
       "      <th>1</th>\n",
       "      <td>Tuesday</td>\n",
       "      <td>1</td>\n",
       "      <td>0</td>\n",
       "      <td>01-02-2018 00:00:00.0000</td>\n",
       "      <td>No</td>\n",
       "      <td>9</td>\n",
       "      <td>3</td>\n",
       "      <td>265</td>\n",
       "    </tr>\n",
       "    <tr>\n",
       "      <th>2</th>\n",
       "      <td>Wednesday</td>\n",
       "      <td>1</td>\n",
       "      <td>0</td>\n",
       "      <td>01-03-2018 00:00:00.0000</td>\n",
       "      <td>No</td>\n",
       "      <td>18</td>\n",
       "      <td>6</td>\n",
       "      <td>256</td>\n",
       "    </tr>\n",
       "    <tr>\n",
       "      <th>3</th>\n",
       "      <td>Thursday</td>\n",
       "      <td>1</td>\n",
       "      <td>0</td>\n",
       "      <td>01-04-2018 00:00:00.0000</td>\n",
       "      <td>No</td>\n",
       "      <td>22</td>\n",
       "      <td>8</td>\n",
       "      <td>252</td>\n",
       "    </tr>\n",
       "    <tr>\n",
       "      <th>4</th>\n",
       "      <td>Friday</td>\n",
       "      <td>1</td>\n",
       "      <td>0</td>\n",
       "      <td>01-05-2018 00:00:00.0000</td>\n",
       "      <td>No</td>\n",
       "      <td>31</td>\n",
       "      <td>11</td>\n",
       "      <td>243</td>\n",
       "    </tr>\n",
       "    <tr>\n",
       "      <th>...</th>\n",
       "      <td>...</td>\n",
       "      <td>...</td>\n",
       "      <td>...</td>\n",
       "      <td>...</td>\n",
       "      <td>...</td>\n",
       "      <td>...</td>\n",
       "      <td>...</td>\n",
       "      <td>...</td>\n",
       "    </tr>\n",
       "    <tr>\n",
       "      <th>1825</th>\n",
       "      <td>Saturday</td>\n",
       "      <td>1</td>\n",
       "      <td>0</td>\n",
       "      <td>12-31-2022 00:00:00.0000</td>\n",
       "      <td>No</td>\n",
       "      <td>51</td>\n",
       "      <td>19</td>\n",
       "      <td>223</td>\n",
       "    </tr>\n",
       "    <tr>\n",
       "      <th>1826</th>\n",
       "      <td>Sunday</td>\n",
       "      <td>1</td>\n",
       "      <td>0</td>\n",
       "      <td>01-01-2023 00:00:00.0000</td>\n",
       "      <td>No</td>\n",
       "      <td>53</td>\n",
       "      <td>20</td>\n",
       "      <td>221</td>\n",
       "    </tr>\n",
       "    <tr>\n",
       "      <th>1827</th>\n",
       "      <td>Monday</td>\n",
       "      <td>1</td>\n",
       "      <td>0</td>\n",
       "      <td>01-02-2023 00:00:00.0000</td>\n",
       "      <td>No</td>\n",
       "      <td>61</td>\n",
       "      <td>22</td>\n",
       "      <td>213</td>\n",
       "    </tr>\n",
       "    <tr>\n",
       "      <th>1828</th>\n",
       "      <td>Tuesday</td>\n",
       "      <td>1</td>\n",
       "      <td>0</td>\n",
       "      <td>01-03-2023 00:00:00.0000</td>\n",
       "      <td>No</td>\n",
       "      <td>70</td>\n",
       "      <td>25</td>\n",
       "      <td>204</td>\n",
       "    </tr>\n",
       "    <tr>\n",
       "      <th>1829</th>\n",
       "      <td>Wednesday</td>\n",
       "      <td>1</td>\n",
       "      <td>0</td>\n",
       "      <td>01-04-2023 00:00:00.0000</td>\n",
       "      <td>No</td>\n",
       "      <td>69</td>\n",
       "      <td>25</td>\n",
       "      <td>205</td>\n",
       "    </tr>\n",
       "  </tbody>\n",
       "</table>\n",
       "<p>1830 rows × 8 columns</p>\n",
       "</div>"
      ],
      "text/plain": [
       "            DoW  hour  minute                      date maintenance prod_loss  \\\n",
       "0        Monday     1       0  01-01-2018 00:00:00.0000          No         9   \n",
       "1       Tuesday     1       0  01-02-2018 00:00:00.0000          No         9   \n",
       "2     Wednesday     1       0  01-03-2018 00:00:00.0000          No        18   \n",
       "3      Thursday     1       0  01-04-2018 00:00:00.0000          No        22   \n",
       "4        Friday     1       0  01-05-2018 00:00:00.0000          No        31   \n",
       "...         ...   ...     ...                       ...         ...       ...   \n",
       "1825   Saturday     1       0  12-31-2022 00:00:00.0000          No        51   \n",
       "1826     Sunday     1       0  01-01-2023 00:00:00.0000          No        53   \n",
       "1827     Monday     1       0  01-02-2023 00:00:00.0000          No        61   \n",
       "1828    Tuesday     1       0  01-03-2023 00:00:00.0000          No        70   \n",
       "1829  Wednesday     1       0  01-04-2023 00:00:00.0000          No        69   \n",
       "\n",
       "     prod_loss_perc production  \n",
       "0                 3        265  \n",
       "1                 3        265  \n",
       "2                 6        256  \n",
       "3                 8        252  \n",
       "4                11        243  \n",
       "...             ...        ...  \n",
       "1825             19        223  \n",
       "1826             20        221  \n",
       "1827             22        213  \n",
       "1828             25        204  \n",
       "1829             25        205  \n",
       "\n",
       "[1830 rows x 8 columns]"
      ]
     },
     "execution_count": 4,
     "metadata": {},
     "output_type": "execute_result"
    }
   ],
   "source": [
    "dfSTO"
   ]
  },
  {
   "cell_type": "markdown",
   "id": "2d82c144",
   "metadata": {},
   "source": [
    "## Step 2: data exploration"
   ]
  },
  {
   "cell_type": "code",
   "execution_count": 5,
   "id": "1dca47f9",
   "metadata": {},
   "outputs": [
    {
     "name": "stdout",
     "output_type": "stream",
     "text": [
      "Unique values for DoW: ['Monday' 'Tuesday' 'Wednesday' 'Thursday' 'Friday' 'Saturday' 'Sunday']\n",
      "Unique values for hour: [1]\n",
      "Unique values for minute: [0]\n",
      "Unique values for date: ['01-01-2018 00:00:00.0000' '01-02-2018 00:00:00.0000'\n",
      " '01-03-2018 00:00:00.0000' ... '01-02-2023 00:00:00.0000'\n",
      " '01-03-2023 00:00:00.0000' '01-04-2023 00:00:00.0000']\n",
      "Unique values for maintenance: ['No' 'Yes']\n",
      "Unique values for prod_loss: [9 18 22 31 38 52 46 41 48 44 56 53 49 45 60 54 57 51 47 58 61 55 50 43 67\n",
      " 73 62 65 72 75 70 69 74 68 71 78 66 59 87 81 79 83 88 84 82 77 86 89 80\n",
      " 64 95 90 97 94 99 92 85 63 76 274 249 236 211 195 175 159 149 148 136 140\n",
      " 260 240 223 '#MV' 229 189 184 170 158 151 143 131 124 118 106 107 100 40\n",
      " 37 36 42 96 103 108 116 109 102 91 98 244 227 206 201 183 168 162 146 235\n",
      " 200 185 172 153 129 110 247 174 254 253 225 202 180 163 154 126 115 39\n",
      " 251 222 193 156 139 133 120 114 104 101 248 232 213 186 179 160 123 128\n",
      " 119 113 117 250 220 212 182 164 145 134 93 233 221 199 190 203 181 169\n",
      " 166 161 130 111 105 178 132 127 257 230 207 191 228 210 258 238 215 192\n",
      " 137 246 218 187 173 155 138 135 256 241 194 157 147 144 122]\n",
      "Unique values for prod_loss_perc: [3 6 8 11 14 19 17 15 16 20 18 22 21 24 27 25 23 26 28 29 32 30 31 35 33\n",
      " 36 34 100 91 86 77 71 64 58 54 50 51 95 88 81 '#MV' 83 69 67 62 55 52 48\n",
      " 45 43 39 37 13 38 40 42 89 75 73 61 59 53 82 63 56 47 90 93 92 74 66 60\n",
      " 46 57 49 44 85 78 68 65 41 80 94 84 70 87 79]\n",
      "Unique values for production: [265 256 252 243 236 222 228 233 226 230 218 221 225 229 214 220 217 223\n",
      " 227 216 213 219 224 231 207 201 212 209 202 199 204 205 200 206 203 196\n",
      " 208 215 187 193 195 191 186 190 192 197 188 185 194 210 179 184 177 180\n",
      " 175 182 189 211 198 0 25 38 63 79 99 115 125 126 138 134 14 34 51 '#MV'\n",
      " 45 85 90 104 116 123 131 143 150 156 168 167 174 234 237 238 232 178 171\n",
      " 166 158 165 172 183 176 30 47 68 73 91 106 112 128 39 74 89 102 121 145\n",
      " 164 27 100 20 21 49 72 94 111 120 148 159 235 23 52 81 118 135 141 154\n",
      " 160 170 173 26 42 61 88 95 114 151 146 155 161 157 24 54 62 92 110 129\n",
      " 140 181 41 53 75 84 71 93 105 108 113 144 163 169 96 142 147 17 44 67 83\n",
      " 46 64 16 36 59 82 137 28 56 87 101 119 136 139 18 33 80 117 127 130 152]\n"
     ]
    }
   ],
   "source": [
    "# Summarize unique values for all columns\n",
    "unique_values_summary = {}\n",
    "\n",
    "for column in dfSTO.columns:\n",
    "    unique_values_summary[column] = dfSTO[column].unique()\n",
    "\n",
    "for column, unique_values in unique_values_summary.items():\n",
    "    print(f\"Unique values for {column}: {unique_values}\")"
   ]
  },
  {
   "cell_type": "code",
   "execution_count": 6,
   "id": "3425faf1",
   "metadata": {},
   "outputs": [
    {
     "data": {
      "text/plain": [
       "maintenance\n",
       "No     1716\n",
       "Yes     114\n",
       "Name: count, dtype: int64"
      ]
     },
     "execution_count": 6,
     "metadata": {},
     "output_type": "execute_result"
    }
   ],
   "source": [
    "dfSTO['maintenance'].value_counts()"
   ]
  },
  {
   "cell_type": "code",
   "execution_count": 7,
   "id": "137c9dc3",
   "metadata": {
    "scrolled": false
   },
   "outputs": [
    {
     "data": {
      "text/plain": [
       "prod_loss\n",
       "274    126\n",
       "#MV    114\n",
       "72      55\n",
       "76      51\n",
       "71      50\n",
       "      ... \n",
       "164      1\n",
       "240      1\n",
       "129      1\n",
       "233      1\n",
       "122      1\n",
       "Name: count, Length: 195, dtype: int64"
      ]
     },
     "execution_count": 7,
     "metadata": {},
     "output_type": "execute_result"
    }
   ],
   "source": [
    "dfSTO['prod_loss'].value_counts()"
   ]
  },
  {
   "cell_type": "code",
   "execution_count": 8,
   "id": "86c303e9",
   "metadata": {
    "scrolled": true
   },
   "outputs": [
    {
     "data": {
      "text/plain": [
       "DoW                                 Monday\n",
       "hour                                     1\n",
       "minute                                   0\n",
       "date              08-03-2020 00:00:00.0000\n",
       "maintenance                            Yes\n",
       "prod_loss                              #MV\n",
       "prod_loss_perc                         #MV\n",
       "production                             #MV\n",
       "Name: 945, dtype: object"
      ]
     },
     "execution_count": 8,
     "metadata": {},
     "output_type": "execute_result"
    }
   ],
   "source": [
    "#Explore if #MV and planned maintenance is correlated\n",
    "dfSTO.loc[945,:]"
   ]
  },
  {
   "cell_type": "markdown",
   "id": "4a5dc4a5",
   "metadata": {},
   "source": [
    "### Visual data exploration production data"
   ]
  },
  {
   "cell_type": "code",
   "execution_count": 9,
   "id": "b0252daa",
   "metadata": {
    "scrolled": false
   },
   "outputs": [
    {
     "data": {
      "image/png": "[encoded data removed]",
      "text/plain": [
       "<Figure size 640x480 with 1 Axes>"
      ]
     },
     "metadata": {},
     "output_type": "display_data"
    }
   ],
   "source": [
    "#Remove non-numerical values with Nan\n",
    "STO_production = pd.to_numeric(dfSTO['production'], errors='coerce')\n",
    "\n",
    "# Determine optimal numbers of bins for histogram\n",
    "num_bins = int(np.sqrt(len(STO_production)))\n",
    "\n",
    "# Plot historical data\n",
    "plt.hist(STO_production, bins=num_bins, alpha=0.5, label='Historical Data')\n",
    "plt.legend()\n",
    "plt.title('Historical Production Data')\n",
    "plt.xlabel('Production')\n",
    "plt.ylabel('Frequency')\n",
    "plt.show()"
   ]
  },
  {
   "cell_type": "markdown",
   "id": "6ecfa8ab",
   "metadata": {},
   "source": [
    "## Step 3: Data filtering for further analysis"
   ]
  },
  {
   "cell_type": "code",
   "execution_count": 10,
   "id": "5540bf11",
   "metadata": {},
   "outputs": [],
   "source": [
    "# Filter out the plannend maintenance and zero production days\n",
    "dfSTO_prod = dfSTO.loc[(dfSTO['maintenance'] == 'No') & (dfSTO['prod_loss_perc'] != 100), :]"
   ]
  },
  {
   "cell_type": "code",
   "execution_count": 11,
   "id": "bf351e34",
   "metadata": {
    "scrolled": false
   },
   "outputs": [
    {
     "data": {
      "image/png": "[encoded data removed]",
      "text/plain": [
       "<Figure size 640x480 with 1 Axes>"
      ]
     },
     "metadata": {},
     "output_type": "display_data"
    }
   ],
   "source": [
    "num_bins = int(np.sqrt(len(dfSTO_prod)))\n",
    "\n",
    "# Plot historical data\n",
    "plt.hist(dfSTO_prod['production'], bins=num_bins, alpha=0.5, label='Historical Data')\n",
    "plt.legend()\n",
    "plt.title('Historical Production Data')\n",
    "plt.xlabel('Production')\n",
    "plt.ylabel('Frequency')\n",
    "plt.show()"
   ]
  },
  {
   "cell_type": "markdown",
   "id": "0d16c55f",
   "metadata": {},
   "source": [
    "## Step 4: Identify Suitable Distribution for Production Process"
   ]
  },
  {
   "cell_type": "code",
   "execution_count": 12,
   "id": "195161e8",
   "metadata": {},
   "outputs": [
    {
     "data": {
      "text/plain": [
       "dtype('int64')"
      ]
     },
     "execution_count": 12,
     "metadata": {},
     "output_type": "execute_result"
    }
   ],
   "source": [
    "#Remove non-numerical values with Nan\n",
    "dfSTO_prod_exzero = pd.to_numeric(dfSTO_prod['production'], errors='coerce')\n",
    "\n",
    "dfSTO_prod_exzero.dtype"
   ]
  },
  {
   "cell_type": "code",
   "execution_count": 13,
   "id": "a9e7caef",
   "metadata": {},
   "outputs": [
    {
     "name": "stdout",
     "output_type": "stream",
     "text": [
      "Best-fit distribution: norm\n",
      "Parameters: (190.9679245283019, 40.17786996986101)\n"
     ]
    }
   ],
   "source": [
    "import numpy as np\n",
    "from scipy import stats\n",
    "\n",
    "def find_best_fit_distribution_continuous(data, distributions=None):\n",
    "    \"\"\"\n",
    "    Find the best-fit distribution for the given data.\n",
    "\n",
    "    Parameters:\n",
    "        data (array-like): The data to fit the distributions to.\n",
    "        distributions (list, optional): The candidate distributions to consider.\n",
    "            Defaults to [stats.norm, stats.gamma, stats.expon, stats.uniform].\n",
    "\n",
    "    Returns:\n",
    "        best_distribution (scipy.stats.rv_continuous): The best-fit distribution.\n",
    "        best_params (tuple): The parameters of the best-fit distribution.\n",
    "    \"\"\"\n",
    "    if distributions is None:\n",
    "        distributions = [\n",
    "            stats.norm,      # Normal distribution\n",
    "            stats.gamma,     # Gamma distribution\n",
    "            stats.expon,     # Exponential distribution\n",
    "            stats.uniform    # Uniform distribution\n",
    "        ]\n",
    "\n",
    "    best_distribution = None\n",
    "    best_params = {}\n",
    "    best_sse = np.inf\n",
    "\n",
    "    for distribution in distributions:\n",
    "        params = distribution.fit(data)\n",
    "        sse = np.sum((distribution.pdf(data, *params) - data) ** 2)\n",
    "\n",
    "        if sse < best_sse:\n",
    "            best_distribution = distribution\n",
    "            best_params = params\n",
    "            best_sse = sse\n",
    "\n",
    "    return best_distribution, best_params\n",
    "\n",
    "def main():\n",
    "  \n",
    "    # Find the best-fit distribution\n",
    "    best_distribution, best_params = find_best_fit_distribution_continuous(dfSTO_prod_exzero)\n",
    "\n",
    "    # Print the best-fit distribution and its parameters\n",
    "    print(f\"Best-fit distribution: {best_distribution.name}\")\n",
    "    print(f\"Parameters: {best_params}\")\n",
    "\n",
    "if __name__ == '__main__':\n",
    "    main()\n",
    "\n"
   ]
  },
  {
   "cell_type": "code",
   "execution_count": 14,
   "id": "b05a8714",
   "metadata": {},
   "outputs": [],
   "source": [
    "sto_best_distribution, sto_best_params = find_best_fit_distribution_continuous(dfSTO_prod_exzero)"
   ]
  },
  {
   "cell_type": "markdown",
   "id": "87a5731b",
   "metadata": {},
   "source": [
    "## Step 6: Develop Simulation Program"
   ]
  },
  {
   "cell_type": "code",
   "execution_count": 16,
   "id": "28bb6aaa",
   "metadata": {},
   "outputs": [
    {
     "name": "stdout",
     "output_type": "stream",
     "text": [
      "Enter the number of days for simulation:7\n"
     ]
    }
   ],
   "source": [
    "n_days = int(input(\"Enter the number of days for simulation:\"))\n",
    "\n",
    "def simulation(n_days, N, df_best_params):\n",
    "    \n",
    "    parameter_list=list(df_best_params)\n",
    "    mean = parameter_list[0]\n",
    "    std_dev = parameter_list[1]\n",
    "    \n",
    "    random_numbers = np.random.normal(mean, std_dev, size=(n_days, N))\n",
    "    \n",
    "    tot_prod = random_numbers.sum(axis=0)\n",
    "       \n",
    "    return tot_prod\n",
    "\n",
    "# variables simulation function\n",
    "N = 10**4\n",
    "\n",
    "STO_data = simulation(n_days, N, sto_best_params)"
   ]
  },
  {
   "cell_type": "code",
   "execution_count": 17,
   "id": "dde12b9a",
   "metadata": {},
   "outputs": [
    {
     "data": {
      "image/png": "[encoded data removed]",
      "text/plain": [
       "<Figure size 640x480 with 1 Axes>"
      ]
     },
     "metadata": {},
     "output_type": "display_data"
    },
    {
     "data": {
      "text/html": [
       "<div>\n",
       "<style scoped>\n",
       "    .dataframe tbody tr th:only-of-type {\n",
       "        vertical-align: middle;\n",
       "    }\n",
       "\n",
       "    .dataframe tbody tr th {\n",
       "        vertical-align: top;\n",
       "    }\n",
       "\n",
       "    .dataframe thead th {\n",
       "        text-align: right;\n",
       "    }\n",
       "</style>\n",
       "<table border=\"1\" class=\"dataframe\">\n",
       "  <thead>\n",
       "    <tr style=\"text-align: right;\">\n",
       "      <th></th>\n",
       "      <th>production_of_7_days</th>\n",
       "    </tr>\n",
       "  </thead>\n",
       "  <tbody>\n",
       "    <tr>\n",
       "      <th>count</th>\n",
       "      <td>10000.000000</td>\n",
       "    </tr>\n",
       "    <tr>\n",
       "      <th>mean</th>\n",
       "      <td>1337.506233</td>\n",
       "    </tr>\n",
       "    <tr>\n",
       "      <th>std</th>\n",
       "      <td>106.219558</td>\n",
       "    </tr>\n",
       "    <tr>\n",
       "      <th>min</th>\n",
       "      <td>937.361870</td>\n",
       "    </tr>\n",
       "    <tr>\n",
       "      <th>25%</th>\n",
       "      <td>1266.595779</td>\n",
       "    </tr>\n",
       "    <tr>\n",
       "      <th>50%</th>\n",
       "      <td>1336.942749</td>\n",
       "    </tr>\n",
       "    <tr>\n",
       "      <th>75%</th>\n",
       "      <td>1408.723705</td>\n",
       "    </tr>\n",
       "    <tr>\n",
       "      <th>max</th>\n",
       "      <td>1720.223965</td>\n",
       "    </tr>\n",
       "  </tbody>\n",
       "</table>\n",
       "</div>"
      ],
      "text/plain": [
       "       production_of_7_days\n",
       "count          10000.000000\n",
       "mean            1337.506233\n",
       "std              106.219558\n",
       "min              937.361870\n",
       "25%             1266.595779\n",
       "50%             1336.942749\n",
       "75%             1408.723705\n",
       "max             1720.223965"
      ]
     },
     "metadata": {},
     "output_type": "display_data"
    }
   ],
   "source": [
    "# Create dataframe from simulation data\n",
    "df_STO_prod = pd.DataFrame(STO_data, columns=[f'production_of_{n_days}_days'])\n",
    "\n",
    "# Visualize the simulation data\n",
    "plt.hist(df_STO_prod[f'production_of_{n_days}_days'])\n",
    "plt.title(f'Production over {n_days} Days for BRU')\n",
    "plt.xlabel(f'Production over {n_days} Days')\n",
    "plt.ylabel('Frequency')\n",
    "plt.grid(True)\n",
    "plt.show()\n",
    "\n",
    "# Visualize the summary of the simulation data\n",
    "\n",
    "display(df_STO_prod.describe())"
   ]
  },
  {
   "cell_type": "markdown",
   "id": "3c74ce0a",
   "metadata": {},
   "source": [
    "## Step 7: Visualize cumulative distribution function"
   ]
  },
  {
   "cell_type": "code",
   "execution_count": 18,
   "id": "c8421e30",
   "metadata": {},
   "outputs": [
    {
     "data": {
      "image/png": "[encoded data removed]",
      "text/plain": [
       "<Figure size 600x500 with 1 Axes>"
      ]
     },
     "metadata": {},
     "output_type": "display_data"
    }
   ],
   "source": [
    "#function to determine the cumulative distribution function\n",
    "def plot_cdf(data):\n",
    "    xx= np.sort(data)\n",
    "    n = len(data)\n",
    "    Fxx = np.arange(1, n + 1) / n\n",
    "    \n",
    "    return xx, Fxx\n",
    "\n",
    "xx, Fxx = plot_cdf(STO_data)\n",
    "\n",
    "#plot the cdf\n",
    "plt.figure(figsize=(6,5))\n",
    "plt.plot(xx, Fxx, marker=\".\", linestyle=\"none\")\n",
    "plt.title(f\"Cumulative Distribution Function (CDF) for Production over {n_days} Days\")\n",
    "plt.xlabel(f\"Production over {n_days} Days\")\n",
    "plt.ylabel(\"Cumulative Probability\")\n",
    "plt.grid(True)\n",
    "plt.show()"
   ]
  }
 ],
 "metadata": {
  "kernelspec": {
   "display_name": "Python 3 (ipykernel)",
   "language": "python",
   "name": "python3"
  },
  "language_info": {
   "codemirror_mode": {
    "name": "ipython",
    "version": 3
   },
   "file_extension": ".py",
   "mimetype": "text/x-python",
   "name": "python",
   "nbconvert_exporter": "python",
   "pygments_lexer": "ipython3",
   "version": "3.9.18"
  }
 },
 "nbformat": 4,
 "nbformat_minor": 5
}
